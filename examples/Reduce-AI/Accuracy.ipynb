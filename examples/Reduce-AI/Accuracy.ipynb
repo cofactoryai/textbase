{
  "cells": [
    {
      "cell_type": "code",
      "execution_count": null,
      "metadata": {
        "colab": {
          "base_uri": "https://localhost:8080/"
        },
        "id": "ceFCAFKmY9_b",
        "outputId": "3541fb72-f8a1-44e0-f18d-f692caf6e1ac"
      },
      "outputs": [
        {
          "output_type": "stream",
          "name": "stdout",
          "text": [
            "Collecting vaderSentiment\n",
            "  Downloading vaderSentiment-3.3.2-py2.py3-none-any.whl (125 kB)\n",
            "\u001b[?25l     \u001b[90m━━━━━━━━━━━━━━━━━━━━━━━━━━━━━━━━━━━━━━━━\u001b[0m \u001b[32m0.0/126.0 kB\u001b[0m \u001b[31m?\u001b[0m eta \u001b[36m-:--:--\u001b[0m\r\u001b[2K     \u001b[90m━━━━━━━━━━━━━━━━━━━━━━━━━━━━━━━━━━━━━━━\u001b[0m \u001b[32m126.0/126.0 kB\u001b[0m \u001b[31m4.6 MB/s\u001b[0m eta \u001b[36m0:00:00\u001b[0m\n",
            "\u001b[?25hRequirement already satisfied: requests in /usr/local/lib/python3.10/dist-packages (from vaderSentiment) (2.27.1)\n",
            "Requirement already satisfied: urllib3<1.27,>=1.21.1 in /usr/local/lib/python3.10/dist-packages (from requests->vaderSentiment) (1.26.16)\n",
            "Requirement already satisfied: certifi>=2017.4.17 in /usr/local/lib/python3.10/dist-packages (from requests->vaderSentiment) (2023.7.22)\n",
            "Requirement already satisfied: charset-normalizer~=2.0.0 in /usr/local/lib/python3.10/dist-packages (from requests->vaderSentiment) (2.0.12)\n",
            "Requirement already satisfied: idna<4,>=2.5 in /usr/local/lib/python3.10/dist-packages (from requests->vaderSentiment) (3.4)\n",
            "Installing collected packages: vaderSentiment\n",
            "Successfully installed vaderSentiment-3.3.2\n"
          ]
        }
      ],
      "source": [
        "pip install vaderSentiment\n"
      ]
    },
    {
      "cell_type": "code",
      "execution_count": null,
      "metadata": {
        "id": "hSTl6az7ZbT6",
        "colab": {
          "base_uri": "https://localhost:8080/"
        },
        "outputId": "2167e184-23fe-480a-e5c4-13cf5dadf4a3"
      },
      "outputs": [
        {
          "output_type": "stream",
          "name": "stdout",
          "text": [
            "Collecting liwc\n",
            "  Downloading liwc-0.5.0-py2.py3-none-any.whl (5.1 kB)\n",
            "Installing collected packages: liwc\n",
            "Successfully installed liwc-0.5.0\n"
          ]
        }
      ],
      "source": [
        "pip install liwc"
      ]
    },
    {
      "cell_type": "code",
      "execution_count": null,
      "metadata": {
        "id": "Oj32gIMvYOLz"
      },
      "outputs": [],
      "source": [
        "import pandas as pd\n",
        "from sklearn.metrics import accuracy_score\n",
        "from vaderSentiment.vaderSentiment import SentimentIntensityAnalyzer"
      ]
    },
    {
      "cell_type": "code",
      "source": [
        "# Sample legal-related data\n",
        "legal_data = [\n",
        "    (\"Someone harassing me, what legal action should I take against him?\", \"neutral\"),\n",
        "    (\"What are the punishments for piracy?\", \"neutral\"),\n",
        "    (\"I need advice on handling a contract dispute.\", \"neutral\"),\n",
        "    (\"My landlord is refusing to return my security deposit. What can I do?\", \"negative\"),\n",
        "    (\"I'm facing a copyright infringement claim. How should I proceed?\", \"negative\"),\n",
        "    (\"I'm starting a new business. What legal requirements do I need to fulfill?\", \"neutral\"),\n",
        "    (\"My neighbor's dog attacked me. Can I file a lawsuit?\", \"neutral\"),\n",
        "    (\"I received a cease and desist letter. Should I consult an attorney?\", \"neutral\"),\n",
        "    (\"I'm considering filing for divorce. What are my legal rights?\", \"neutral\"),\n",
        "    (\"I was injured in a car accident. How do I seek compensation?\", \"neutral\"),\n",
        "    (\"My ex-partner is violating the terms of our separation agreement. What can I do?\", \"negative\"),\n",
        "    (\"I'm being accused of defamation. What defenses do I have?\", \"neutral\"),\n",
        "    (\"I suspect my employer is engaging in discriminatory practices. How should I proceed?\", \"neutral\"),\n",
        "    (\"I need help with estate planning. What legal documents do I need?\", \"neutral\"),\n",
        "    # Add more legal-related client situations\n",
        "]\n"
      ],
      "metadata": {
        "id": "G3xxtE0pytD8"
      },
      "execution_count": null,
      "outputs": []
    },
    {
      "cell_type": "code",
      "source": [
        "df = pd.DataFrame(legal_data, columns=[\"text\", \"true_sentiment\"])"
      ],
      "metadata": {
        "id": "mnAk2XjTy1ra"
      },
      "execution_count": null,
      "outputs": []
    },
    {
      "cell_type": "code",
      "source": [
        "# Initialize VADER sentiment analyzer\n",
        "vader_analyzer = SentimentIntensityAnalyzer()\n"
      ],
      "metadata": {
        "id": "u08JezFty1u5"
      },
      "execution_count": null,
      "outputs": []
    },
    {
      "cell_type": "code",
      "source": [
        "# Perform sentiment analysis using VADER\n",
        "vader_predictions = []\n",
        "for text in df[\"text\"]:\n",
        "    sentiment_scores = vader_analyzer.polarity_scores(text)\n",
        "    vader_sentiment = \"positive\" if sentiment_scores[\"compound\"] > 0 else \"negative\" if sentiment_scores[\"compound\"] < 0 else \"neutral\"\n",
        "    vader_predictions.append(vader_sentiment)\n"
      ],
      "metadata": {
        "id": "0CWDfhcBy7Dv"
      },
      "execution_count": null,
      "outputs": []
    },
    {
      "cell_type": "code",
      "source": [
        "# Calculate accuracy\n",
        "accuracy_vader = accuracy_score(df[\"true_sentiment\"], vader_predictions)\n",
        "\n",
        "# Print the accuracy\n",
        "print(\"VADER Accuracy:\", accuracy_vader)"
      ],
      "metadata": {
        "colab": {
          "base_uri": "https://localhost:8080/"
        },
        "id": "dRXzlgBWy8cF",
        "outputId": "53a9e087-743d-4b65-8618-48226f0c7211"
      },
      "execution_count": null,
      "outputs": [
        {
          "output_type": "stream",
          "name": "stdout",
          "text": [
            "VADER Accuracy: 0.2857142857142857\n"
          ]
        }
      ]
    },
    {
      "cell_type": "markdown",
      "source": [
        "# **TF-IDF  accuracy check**\n"
      ],
      "metadata": {
        "id": "lkV-WEpPX3aN"
      }
    },
    {
      "cell_type": "code",
      "source": [
        "import pandas as pd\n",
        "from sklearn.feature_extraction.text import TfidfVectorizer\n",
        "from sklearn.metrics.pairwise import cosine_similarity\n"
      ],
      "metadata": {
        "id": "b62GGBBkR___"
      },
      "execution_count": 72,
      "outputs": []
    },
    {
      "cell_type": "code",
      "source": [
        "# Load the CSV file\n",
        "csv_file = \"/content/chatbot-dataset.csv\"  # Update with your CSV file path\n",
        "df = pd.read_csv(csv_file)"
      ],
      "metadata": {
        "id": "AL5nrJljZkKN"
      },
      "execution_count": 73,
      "outputs": []
    },
    {
      "cell_type": "code",
      "source": [
        "# Sample user input data\n",
        "sample_queries = [\n",
        "    \"Do you wish you could eat food?\",\n",
        "    \"you are psycho\",\n",
        "    \"What is the capital of France?\",\n",
        "    \"what is money\",\n",
        "    \"What do you like to do?\",\n",
        "    \"What are the types of renewable energy?\"\n",
        "]\n",
        "\n"
      ],
      "metadata": {
        "id": "BVahHIExbkAz"
      },
      "execution_count": 74,
      "outputs": []
    },
    {
      "cell_type": "code",
      "source": [
        "# Initialize TF-IDF vectorizer\n",
        "tfidf_vectorizer = TfidfVectorizer()\n",
        "tfidf_matrix = tfidf_vectorizer.fit_transform(df[\"answer\"])\n",
        "\n"
      ],
      "metadata": {
        "id": "t_MqB-7pbnBQ"
      },
      "execution_count": 75,
      "outputs": []
    },
    {
      "cell_type": "code",
      "source": [
        "# Initialize performance variables\n",
        "correct_count = 0\n",
        "total_queries = len(sample_queries)\n"
      ],
      "metadata": {
        "id": "pysoyyl4bpGq"
      },
      "execution_count": 76,
      "outputs": []
    },
    {
      "cell_type": "code",
      "source": [
        "# Evaluate responses for each sample query\n",
        "for query in sample_queries:\n",
        "    # Calculate cosine similarity\n",
        "    query_vector = tfidf_vectorizer.transform([query])\n",
        "    similarities = cosine_similarity(query_vector, tfidf_matrix)\n",
        "\n",
        "    # Get the index of the most similar answer\n",
        "    most_similar_index = similarities.argmax()\n",
        "\n",
        "    # Get the expected response from the CSV\n",
        "    expected_response = df.loc[most_similar_index, \"answer\"]\n",
        "\n",
        "    # Check if the chatbot's response matches the expected response\n",
        "    chatbot_response = df.loc[most_similar_index, \"answer\"]\n",
        "    if chatbot_response == expected_response:\n",
        "        correct_count += 1\n",
        "\n"
      ],
      "metadata": {
        "id": "_Oo8S-YwbrrB"
      },
      "execution_count": 77,
      "outputs": []
    },
    {
      "cell_type": "code",
      "source": [
        "# Calculate accuracy\n",
        "accuracy = correct_count / total_queries"
      ],
      "metadata": {
        "id": "a_xOc8JCbvO_"
      },
      "execution_count": 78,
      "outputs": []
    },
    {
      "cell_type": "code",
      "source": [
        "# Print the accuracy score\n",
        "print(f\"Accuracy: {accuracy:.2f}\")"
      ],
      "metadata": {
        "colab": {
          "base_uri": "https://localhost:8080/"
        },
        "id": "xfzOERqlbvY5",
        "outputId": "7de521ff-3de2-4556-d456-e9e85c66d132"
      },
      "execution_count": 79,
      "outputs": [
        {
          "output_type": "stream",
          "name": "stdout",
          "text": [
            "Accuracy: 1.00\n"
          ]
        }
      ]
    }
  ],
  "metadata": {
    "colab": {
      "provenance": []
    },
    "kernelspec": {
      "display_name": "Python 3",
      "name": "python3"
    },
    "language_info": {
      "name": "python"
    }
  },
  "nbformat": 4,
  "nbformat_minor": 0
}